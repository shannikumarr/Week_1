{
 "cells": [
  {
   "cell_type": "code",
   "execution_count": 7,
   "metadata": {
    "execution": {
     "iopub.execute_input": "2025-06-21T19:03:10.290615Z",
     "iopub.status.busy": "2025-06-21T19:03:10.290272Z",
     "iopub.status.idle": "2025-06-21T19:03:10.325045Z",
     "shell.execute_reply": "2025-06-21T19:03:10.324386Z",
     "shell.execute_reply.started": "2025-06-21T19:03:10.290590Z"
    },
    "trusted": true
   },
   "outputs": [
    {
     "name": "stdout",
     "output_type": "stream",
     "text": [
      "Found 82 images belonging to 6 classes.\n",
      "Found 18 images belonging to 6 classes.\n"
     ]
    }
   ],
   "source": [
    "import numpy as np\n",
    "import matplotlib.pyplot as plt\n",
    "import tensorflow as tf\n",
    "import seaborn as sns \n",
    "from tensorflow.keras import Layer\n",
    "from tensorflow.keras.preprocessing.image import ImageDataGenerator\n",
    "# from tensorflow.keras.applications import VGG16\n",
    "from tensorflow.keras import layers, optimizers, callbacks \n",
    "from sklearn.utils.class_weight import compute_class_weight\n",
    "from tensorflow.keras.models import Sequential\n",
    "from tensorflow.keras.layers import Dense,  Rescaling , GlobalAveragePooling2D\n",
    "from tensorflow.keras.applications import EfficientNetV2B2 \n",
    "from sklearn.metrics import confusion_matrix, classification_report\n",
    "\n",
    "IMG_SIZE = 224\n",
    "BATCH_SIZE = 32\n",
    "\n",
    "# DATASET_PATH\n",
    "\n",
    "Dataset='/kaggle/input/garbage/Dataset'\n",
    "\n",
    "datagen = ImageDataGenerator(\n",
    "    rescale=1./255,\n",
    "    validation_split=0.2  # 20% data reserved for validation\n",
    ")\n",
    "\n",
    "train_generator = datagen.flow_from_directory(\n",
    "    Dataset,\n",
    "    target_size=(224, 224),\n",
    "    batch_size=32,\n",
    "    class_mode='categorical',\n",
    "    subset='training',   \n",
    "    \n",
    ")\n",
    "\n",
    "val_generator = datagen.flow_from_directory(\n",
    "    Dataset,\n",
    "    target_size=(224, 224),\n",
    "    batch_size=32,\n",
    "    class_mode='categorical',\n",
    "    subset='validation',  \n",
    "    \n",
    ")\n",
    "\n"
   ]
  },
  {
   "cell_type": "code",
   "execution_count": null,
   "metadata": {
    "execution": {
     "iopub.execute_input": "2025-06-21T19:03:17.609356Z",
     "iopub.status.busy": "2025-06-21T19:03:17.608521Z",
     "iopub.status.idle": "2025-06-21T19:03:17.614505Z",
     "shell.execute_reply": "2025-06-21T19:03:17.613638Z",
     "shell.execute_reply.started": "2025-06-21T19:03:17.609323Z"
    },
    "trusted": true
   },
   "outputs": [
    {
     "name": "stdout",
     "output_type": "stream",
     "text": [
      "Train images: 82\n",
      "Validation images: 18\n",
      "Classes: {'cardboard': 0, 'glass': 1, 'metal': 2, 'paper': 3, 'plastic': 4, 'trash': 5}\n"
     ]
    }
   ],
   "source": [
    "print(f\"Train images: {train_generator.samples}\")\n",
    "print(f\"Validation images: {val_generator.samples}\")\n"
   ]
  }
 ],
 "metadata": {
  "kaggle": {
   "accelerator": "none",
   "dataSources": [
    {
     "datasetId": 7712800,
     "sourceId": 12240819,
     "sourceType": "datasetVersion"
    }
   ],
   "dockerImageVersionId": 31040,
   "isGpuEnabled": false,
   "isInternetEnabled": false,
   "language": "python",
   "sourceType": "notebook"
  },
  "kernelspec": {
   "display_name": "Python 3",
   "language": "python",
   "name": "python3"
  },
  "language_info": {
   "codemirror_mode": {
    "name": "ipython",
    "version": 3
   },
   "file_extension": ".py",
   "mimetype": "text/x-python",
   "name": "python",
   "nbconvert_exporter": "python",
   "pygments_lexer": "ipython3",
   "version": "3.11.11"
  }
 },
 "nbformat": 4,
 "nbformat_minor": 4
}
